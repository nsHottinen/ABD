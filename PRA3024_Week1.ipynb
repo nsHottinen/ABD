{
 "cells": [
  {
   "cell_type": "code",
   "execution_count": null,
   "id": "88062bf7-2ce5-4eac-a62c-193767261450",
   "metadata": {},
   "outputs": [],
   "source": [
    "import numpy as np"
   ]
  },
  {
   "cell_type": "code",
   "execution_count": 1,
   "id": "679f6837-c3f8-4c98-8f9b-8d7334f758cb",
   "metadata": {
    "tags": []
   },
   "outputs": [
    {
     "name": "stdout",
     "output_type": "stream",
     "text": [
      "Week one of PRA3024\n"
     ]
    }
   ],
   "source": [
    "print(\"Week one of PRA3024\")"
   ]
  },
  {
   "cell_type": "code",
   "execution_count": null,
   "id": "34348097-2830-426c-bd14-fb806ee9f8af",
   "metadata": {},
   "outputs": [],
   "source": []
  }
 ],
 "metadata": {
  "kernelspec": {
   "display_name": "Python 3 (ipykernel)",
   "language": "python",
   "name": "python3"
  },
  "language_info": {
   "codemirror_mode": {
    "name": "ipython",
    "version": 3
   },
   "file_extension": ".py",
   "mimetype": "text/x-python",
   "name": "python",
   "nbconvert_exporter": "python",
   "pygments_lexer": "ipython3",
   "version": "3.8.13"
  }
 },
 "nbformat": 4,
 "nbformat_minor": 5
}
